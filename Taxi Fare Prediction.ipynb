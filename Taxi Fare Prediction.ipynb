{
 "cells": [
  {
   "cell_type": "markdown",
   "id": "087666d1",
   "metadata": {},
   "source": [
    "# Setting up the environment"
   ]
  },
  {
   "cell_type": "code",
   "execution_count": 1,
   "id": "b5ef10b8",
   "metadata": {},
   "outputs": [
    {
     "name": "stdout",
     "output_type": "stream",
     "text": [
      ".ipynb_checkpoints\n",
      "GCP-Coupons-Instructions.rtf\n",
      "load.csv\n",
      "nyc_taxi_data_raw.feather\n",
      "sample_submission.csv\n",
      "Taxi Fare Prediction.ipynb\n",
      "test.csv\n",
      "train.csv\n"
     ]
    }
   ],
   "source": [
    "#Pandas will help read the csv files \n",
    "#Python OS module provides the facility to establish the interaction between the user and the operating system\n",
    "#numpy helps as work with arrays.\n",
    "\n",
    "import numpy as np\n",
    "import os \n",
    "import pandas as pd\n",
    "from pyarrow import feather\n",
    "from tqdm import tqdm\n",
    "\n",
    "\n",
    "#print a list containing the names of all the entries in the directory given path\n",
    "# Open a file\n",
    "path= '../data science project'\n",
    "dirs= os.listdir( path )\n",
    "# This would print all the files and directories\n",
    "for file in dirs:\n",
    "   print(file)"
   ]
  },
  {
   "cell_type": "markdown",
   "id": "ec1aa8dd",
   "metadata": {},
   "source": [
    "# Setting up the training environment"
   ]
  },
  {
   "cell_type": "code",
   "execution_count": 2,
   "id": "c7bf5515",
   "metadata": {},
   "outputs": [
    {
     "name": "stdout",
     "output_type": "stream",
     "text": [
      "Exact number of rows: 55423857\n"
     ]
    }
   ],
   "source": [
    "training_path = '../data science project/train.csv'\n",
    " \n",
    "    \n",
    "#We want to establish the exact number of rows in the training data\n",
    "\n",
    "with open(training_path) as file:\n",
    "    n_rows = len(file.readlines())\n",
    "print (f'Exact number of rows: {n_rows}')"
   ]
  },
  {
   "cell_type": "code",
   "execution_count": 7,
   "id": "efc5f712",
   "metadata": {},
   "outputs": [
    {
     "data": {
      "text/html": [
       "<div>\n",
       "<style scoped>\n",
       "    .dataframe tbody tr th:only-of-type {\n",
       "        vertical-align: middle;\n",
       "    }\n",
       "\n",
       "    .dataframe tbody tr th {\n",
       "        vertical-align: top;\n",
       "    }\n",
       "\n",
       "    .dataframe thead th {\n",
       "        text-align: right;\n",
       "    }\n",
       "</style>\n",
       "<table border=\"1\" class=\"dataframe\">\n",
       "  <thead>\n",
       "    <tr style=\"text-align: right;\">\n",
       "      <th></th>\n",
       "      <th>key</th>\n",
       "      <th>fare_amount</th>\n",
       "      <th>pickup_datetime</th>\n",
       "      <th>pickup_longitude</th>\n",
       "      <th>pickup_latitude</th>\n",
       "      <th>dropoff_longitude</th>\n",
       "      <th>dropoff_latitude</th>\n",
       "      <th>passenger_count</th>\n",
       "    </tr>\n",
       "  </thead>\n",
       "  <tbody>\n",
       "    <tr>\n",
       "      <th>0</th>\n",
       "      <td>2009-06-15 17:26:21.0000001</td>\n",
       "      <td>4.5</td>\n",
       "      <td>2009-06-15 17:26:21 UTC</td>\n",
       "      <td>-73.844311</td>\n",
       "      <td>40.721319</td>\n",
       "      <td>-73.841610</td>\n",
       "      <td>40.712278</td>\n",
       "      <td>1</td>\n",
       "    </tr>\n",
       "    <tr>\n",
       "      <th>1</th>\n",
       "      <td>2010-01-05 16:52:16.0000002</td>\n",
       "      <td>16.9</td>\n",
       "      <td>2010-01-05 16:52:16 UTC</td>\n",
       "      <td>-74.016048</td>\n",
       "      <td>40.711303</td>\n",
       "      <td>-73.979268</td>\n",
       "      <td>40.782004</td>\n",
       "      <td>1</td>\n",
       "    </tr>\n",
       "    <tr>\n",
       "      <th>2</th>\n",
       "      <td>2011-08-18 00:35:00.00000049</td>\n",
       "      <td>5.7</td>\n",
       "      <td>2011-08-18 00:35:00 UTC</td>\n",
       "      <td>-73.982738</td>\n",
       "      <td>40.761270</td>\n",
       "      <td>-73.991242</td>\n",
       "      <td>40.750562</td>\n",
       "      <td>2</td>\n",
       "    </tr>\n",
       "    <tr>\n",
       "      <th>3</th>\n",
       "      <td>2012-04-21 04:30:42.0000001</td>\n",
       "      <td>7.7</td>\n",
       "      <td>2012-04-21 04:30:42 UTC</td>\n",
       "      <td>-73.987130</td>\n",
       "      <td>40.733143</td>\n",
       "      <td>-73.991567</td>\n",
       "      <td>40.758092</td>\n",
       "      <td>1</td>\n",
       "    </tr>\n",
       "    <tr>\n",
       "      <th>4</th>\n",
       "      <td>2010-03-09 07:51:00.000000135</td>\n",
       "      <td>5.3</td>\n",
       "      <td>2010-03-09 07:51:00 UTC</td>\n",
       "      <td>-73.968095</td>\n",
       "      <td>40.768008</td>\n",
       "      <td>-73.956655</td>\n",
       "      <td>40.783762</td>\n",
       "      <td>1</td>\n",
       "    </tr>\n",
       "  </tbody>\n",
       "</table>\n",
       "</div>"
      ],
      "text/plain": [
       "                             key  fare_amount          pickup_datetime  \\\n",
       "0    2009-06-15 17:26:21.0000001          4.5  2009-06-15 17:26:21 UTC   \n",
       "1    2010-01-05 16:52:16.0000002         16.9  2010-01-05 16:52:16 UTC   \n",
       "2   2011-08-18 00:35:00.00000049          5.7  2011-08-18 00:35:00 UTC   \n",
       "3    2012-04-21 04:30:42.0000001          7.7  2012-04-21 04:30:42 UTC   \n",
       "4  2010-03-09 07:51:00.000000135          5.3  2010-03-09 07:51:00 UTC   \n",
       "\n",
       "   pickup_longitude  pickup_latitude  dropoff_longitude  dropoff_latitude  \\\n",
       "0        -73.844311        40.721319         -73.841610         40.712278   \n",
       "1        -74.016048        40.711303         -73.979268         40.782004   \n",
       "2        -73.982738        40.761270         -73.991242         40.750562   \n",
       "3        -73.987130        40.733143         -73.991567         40.758092   \n",
       "4        -73.968095        40.768008         -73.956655         40.783762   \n",
       "\n",
       "   passenger_count  \n",
       "0                1  \n",
       "1                1  \n",
       "2                2  \n",
       "3                1  \n",
       "4                1  "
      ]
     },
     "execution_count": 7,
     "metadata": {},
     "output_type": "execute_result"
    }
   ],
   "source": [
    "#Have a look at the training file header\n",
    "\n",
    "df_tmp = pd.read_csv(training_path, nrows=5)\n",
    "df_tmp.head()"
   ]
  },
  {
   "cell_type": "code",
   "execution_count": 8,
   "id": "b46acae2",
   "metadata": {},
   "outputs": [
    {
     "name": "stdout",
     "output_type": "stream",
     "text": [
      "<class 'pandas.core.frame.DataFrame'>\n",
      "RangeIndex: 5 entries, 0 to 4\n",
      "Data columns (total 8 columns):\n",
      " #   Column             Non-Null Count  Dtype  \n",
      "---  ------             --------------  -----  \n",
      " 0   key                5 non-null      object \n",
      " 1   fare_amount        5 non-null      float64\n",
      " 2   pickup_datetime    5 non-null      object \n",
      " 3   pickup_longitude   5 non-null      float64\n",
      " 4   pickup_latitude    5 non-null      float64\n",
      " 5   dropoff_longitude  5 non-null      float64\n",
      " 6   dropoff_latitude   5 non-null      float64\n",
      " 7   passenger_count    5 non-null      int64  \n",
      "dtypes: float64(5), int64(1), object(2)\n",
      "memory usage: 448.0+ bytes\n"
     ]
    }
   ],
   "source": [
    "df_tmp.info()"
   ]
  },
  {
   "cell_type": "code",
   "execution_count": 11,
   "id": "427de58b",
   "metadata": {},
   "outputs": [
    {
     "name": "stderr",
     "output_type": "stream",
     "text": [
      "6it [02:56, 29.45s/it]\n"
     ]
    }
   ],
   "source": [
    "chunksize = 10_000_000 #10 million rows at a go\n",
    "\n",
    "#To be able to hold the batch dataframe\n",
    "df_list = []\n",
    "\n",
    "for df_chunk in tqdm(pd.read_csv(training_path, usecols=cols, dtype=traintypes, chunksize=chunksize)):\n",
    "    df_list.append(df_chunk)"
   ]
  },
  {
   "cell_type": "code",
   "execution_count": 12,
   "id": "db6dee01",
   "metadata": {},
   "outputs": [],
   "source": [
    "# We need to optimize memory usage by setting up the columns to the most suitable type\n",
    "traintypes = {'fare_amount': 'float32',\n",
    "            'pickup_datetime': 'string',\n",
    "            'pickup_longitude': 'float32',\n",
    "            'pickup_latitude': 'float32',\n",
    "             'dropoff_longitude':'float32',\n",
    "             'dropoff_latitude':'float32',\n",
    "             'passenger_count': 'uint8'}\n",
    "cols = list(traintypes.keys())"
   ]
  },
  {
   "cell_type": "code",
   "execution_count": 13,
   "id": "5349f135",
   "metadata": {},
   "outputs": [
    {
     "name": "stdout",
     "output_type": "stream",
     "text": [
      "<class 'pandas.core.frame.DataFrame'>\n",
      "RangeIndex: 55423856 entries, 0 to 55423855\n",
      "Data columns (total 7 columns):\n",
      " #   Column             Dtype  \n",
      "---  ------             -----  \n",
      " 0   fare_amount        float32\n",
      " 1   pickup_datetime    string \n",
      " 2   pickup_longitude   float32\n",
      " 3   pickup_latitude    float32\n",
      " 4   dropoff_longitude  float32\n",
      " 5   dropoff_latitude   float32\n",
      " 6   passenger_count    uint8  \n",
      "dtypes: float32(5), string(1), uint8(1)\n",
      "memory usage: 1.5 GB\n"
     ]
    }
   ],
   "source": [
    "# Merging all dataframes into one\n",
    "train_df = pd.concat(df_list)\n",
    "\n",
    "#To release the memory we delete the dataframe\n",
    "del df_list\n",
    "\n",
    "#To be able to see what has been loaded\n",
    "train_df.info()"
   ]
  },
  {
   "cell_type": "code",
   "execution_count": 14,
   "id": "b5d3dc94",
   "metadata": {},
   "outputs": [
    {
     "data": {
      "text/html": [
       "<div>\n",
       "<style scoped>\n",
       "    .dataframe tbody tr th:only-of-type {\n",
       "        vertical-align: middle;\n",
       "    }\n",
       "\n",
       "    .dataframe tbody tr th {\n",
       "        vertical-align: top;\n",
       "    }\n",
       "\n",
       "    .dataframe thead th {\n",
       "        text-align: right;\n",
       "    }\n",
       "</style>\n",
       "<table border=\"1\" class=\"dataframe\">\n",
       "  <thead>\n",
       "    <tr style=\"text-align: right;\">\n",
       "      <th></th>\n",
       "      <th>fare_amount</th>\n",
       "      <th>pickup_datetime</th>\n",
       "      <th>pickup_longitude</th>\n",
       "      <th>pickup_latitude</th>\n",
       "      <th>dropoff_longitude</th>\n",
       "      <th>dropoff_latitude</th>\n",
       "      <th>passenger_count</th>\n",
       "    </tr>\n",
       "  </thead>\n",
       "  <tbody>\n",
       "    <tr>\n",
       "      <th>0</th>\n",
       "      <td>4.5</td>\n",
       "      <td>2009-06-15 17:26:21 UTC</td>\n",
       "      <td>-73.844315</td>\n",
       "      <td>40.721317</td>\n",
       "      <td>-73.841614</td>\n",
       "      <td>40.712276</td>\n",
       "      <td>1</td>\n",
       "    </tr>\n",
       "    <tr>\n",
       "      <th>1</th>\n",
       "      <td>16.9</td>\n",
       "      <td>2010-01-05 16:52:16 UTC</td>\n",
       "      <td>-74.016045</td>\n",
       "      <td>40.711304</td>\n",
       "      <td>-73.979271</td>\n",
       "      <td>40.782005</td>\n",
       "      <td>1</td>\n",
       "    </tr>\n",
       "    <tr>\n",
       "      <th>2</th>\n",
       "      <td>5.7</td>\n",
       "      <td>2011-08-18 00:35:00 UTC</td>\n",
       "      <td>-73.982735</td>\n",
       "      <td>40.761269</td>\n",
       "      <td>-73.991241</td>\n",
       "      <td>40.750561</td>\n",
       "      <td>2</td>\n",
       "    </tr>\n",
       "    <tr>\n",
       "      <th>3</th>\n",
       "      <td>7.7</td>\n",
       "      <td>2012-04-21 04:30:42 UTC</td>\n",
       "      <td>-73.987129</td>\n",
       "      <td>40.733143</td>\n",
       "      <td>-73.991570</td>\n",
       "      <td>40.758091</td>\n",
       "      <td>1</td>\n",
       "    </tr>\n",
       "    <tr>\n",
       "      <th>4</th>\n",
       "      <td>5.3</td>\n",
       "      <td>2010-03-09 07:51:00 UTC</td>\n",
       "      <td>-73.968094</td>\n",
       "      <td>40.768009</td>\n",
       "      <td>-73.956657</td>\n",
       "      <td>40.783764</td>\n",
       "      <td>1</td>\n",
       "    </tr>\n",
       "  </tbody>\n",
       "</table>\n",
       "</div>"
      ],
      "text/plain": [
       "   fare_amount          pickup_datetime  pickup_longitude  pickup_latitude  \\\n",
       "0          4.5  2009-06-15 17:26:21 UTC        -73.844315        40.721317   \n",
       "1         16.9  2010-01-05 16:52:16 UTC        -74.016045        40.711304   \n",
       "2          5.7  2011-08-18 00:35:00 UTC        -73.982735        40.761269   \n",
       "3          7.7  2012-04-21 04:30:42 UTC        -73.987129        40.733143   \n",
       "4          5.3  2010-03-09 07:51:00 UTC        -73.968094        40.768009   \n",
       "\n",
       "   dropoff_longitude  dropoff_latitude  passenger_count  \n",
       "0         -73.841614         40.712276                1  \n",
       "1         -73.979271         40.782005                1  \n",
       "2         -73.991241         40.750561                2  \n",
       "3         -73.991570         40.758091                1  \n",
       "4         -73.956657         40.783764                1  "
      ]
     },
     "metadata": {},
     "output_type": "display_data"
    },
    {
     "data": {
      "text/html": [
       "<div>\n",
       "<style scoped>\n",
       "    .dataframe tbody tr th:only-of-type {\n",
       "        vertical-align: middle;\n",
       "    }\n",
       "\n",
       "    .dataframe tbody tr th {\n",
       "        vertical-align: top;\n",
       "    }\n",
       "\n",
       "    .dataframe thead th {\n",
       "        text-align: right;\n",
       "    }\n",
       "</style>\n",
       "<table border=\"1\" class=\"dataframe\">\n",
       "  <thead>\n",
       "    <tr style=\"text-align: right;\">\n",
       "      <th></th>\n",
       "      <th>fare_amount</th>\n",
       "      <th>pickup_datetime</th>\n",
       "      <th>pickup_longitude</th>\n",
       "      <th>pickup_latitude</th>\n",
       "      <th>dropoff_longitude</th>\n",
       "      <th>dropoff_latitude</th>\n",
       "      <th>passenger_count</th>\n",
       "    </tr>\n",
       "  </thead>\n",
       "  <tbody>\n",
       "    <tr>\n",
       "      <th>55423851</th>\n",
       "      <td>14.0</td>\n",
       "      <td>2014-03-15 03:28:00 UTC</td>\n",
       "      <td>-74.005272</td>\n",
       "      <td>40.740028</td>\n",
       "      <td>-73.963280</td>\n",
       "      <td>40.762554</td>\n",
       "      <td>1</td>\n",
       "    </tr>\n",
       "    <tr>\n",
       "      <th>55423852</th>\n",
       "      <td>4.2</td>\n",
       "      <td>2009-03-24 20:46:20 UTC</td>\n",
       "      <td>-73.957787</td>\n",
       "      <td>40.765530</td>\n",
       "      <td>-73.951637</td>\n",
       "      <td>40.773960</td>\n",
       "      <td>1</td>\n",
       "    </tr>\n",
       "    <tr>\n",
       "      <th>55423853</th>\n",
       "      <td>14.1</td>\n",
       "      <td>2011-04-02 22:04:24 UTC</td>\n",
       "      <td>-73.970505</td>\n",
       "      <td>40.752323</td>\n",
       "      <td>-73.960541</td>\n",
       "      <td>40.797340</td>\n",
       "      <td>1</td>\n",
       "    </tr>\n",
       "    <tr>\n",
       "      <th>55423854</th>\n",
       "      <td>28.9</td>\n",
       "      <td>2011-10-26 05:57:51 UTC</td>\n",
       "      <td>-73.980904</td>\n",
       "      <td>40.764629</td>\n",
       "      <td>-73.870605</td>\n",
       "      <td>40.773964</td>\n",
       "      <td>1</td>\n",
       "    </tr>\n",
       "    <tr>\n",
       "      <th>55423855</th>\n",
       "      <td>7.5</td>\n",
       "      <td>2014-12-12 11:33:00 UTC</td>\n",
       "      <td>-73.969719</td>\n",
       "      <td>40.797668</td>\n",
       "      <td>-73.970886</td>\n",
       "      <td>40.783314</td>\n",
       "      <td>1</td>\n",
       "    </tr>\n",
       "  </tbody>\n",
       "</table>\n",
       "</div>"
      ],
      "text/plain": [
       "          fare_amount          pickup_datetime  pickup_longitude  \\\n",
       "55423851         14.0  2014-03-15 03:28:00 UTC        -74.005272   \n",
       "55423852          4.2  2009-03-24 20:46:20 UTC        -73.957787   \n",
       "55423853         14.1  2011-04-02 22:04:24 UTC        -73.970505   \n",
       "55423854         28.9  2011-10-26 05:57:51 UTC        -73.980904   \n",
       "55423855          7.5  2014-12-12 11:33:00 UTC        -73.969719   \n",
       "\n",
       "          pickup_latitude  dropoff_longitude  dropoff_latitude  \\\n",
       "55423851        40.740028         -73.963280         40.762554   \n",
       "55423852        40.765530         -73.951637         40.773960   \n",
       "55423853        40.752323         -73.960541         40.797340   \n",
       "55423854        40.764629         -73.870605         40.773964   \n",
       "55423855        40.797668         -73.970886         40.783314   \n",
       "\n",
       "          passenger_count  \n",
       "55423851                1  \n",
       "55423852                1  \n",
       "55423853                1  \n",
       "55423854                1  \n",
       "55423855                1  "
      ]
     },
     "metadata": {},
     "output_type": "display_data"
    }
   ],
   "source": [
    "display(train_df.head())\n",
    "display(train_df.tail())"
   ]
  },
  {
   "cell_type": "markdown",
   "id": "6a91d600",
   "metadata": {},
   "source": [
    "### We can save the file into a feather format which will allow us to read the same dataframe next time directly without reading the csv file again"
   ]
  },
  {
   "cell_type": "code",
   "execution_count": 15,
   "id": "6c7b19fa",
   "metadata": {},
   "outputs": [],
   "source": [
    "#The feather format is allowed by importing pyarrow and using the feather module\n",
    "train_df.to_feather('nyc_taxi_data_raw.feather')"
   ]
  },
  {
   "cell_type": "code",
   "execution_count": 16,
   "id": "7d855ab5",
   "metadata": {},
   "outputs": [],
   "source": [
    "train_df_new = pd.read_feather('nyc_taxi_data_raw.feather')"
   ]
  },
  {
   "cell_type": "code",
   "execution_count": 17,
   "id": "2508df1b",
   "metadata": {},
   "outputs": [
    {
     "name": "stdout",
     "output_type": "stream",
     "text": [
      "<class 'pandas.core.frame.DataFrame'>\n",
      "RangeIndex: 55423856 entries, 0 to 55423855\n",
      "Data columns (total 7 columns):\n",
      " #   Column             Dtype  \n",
      "---  ------             -----  \n",
      " 0   fare_amount        float32\n",
      " 1   pickup_datetime    string \n",
      " 2   pickup_longitude   float32\n",
      " 3   pickup_latitude    float32\n",
      " 4   dropoff_longitude  float32\n",
      " 5   dropoff_latitude   float32\n",
      " 6   passenger_count    uint8  \n",
      "dtypes: float32(5), string(1), uint8(1)\n",
      "memory usage: 1.5 GB\n"
     ]
    }
   ],
   "source": [
    "# To establish that we have loaded the 55 million rows we print the dataframe\n",
    "\n",
    "train_df_new.info()"
   ]
  },
  {
   "cell_type": "code",
   "execution_count": 18,
   "id": "3770863f",
   "metadata": {},
   "outputs": [
    {
     "data": {
      "text/plain": [
       "<bound method DataFrame.info of           fare_amount          pickup_datetime  pickup_longitude  \\\n",
       "0                 4.5  2009-06-15 17:26:21 UTC        -73.844315   \n",
       "1                16.9  2010-01-05 16:52:16 UTC        -74.016045   \n",
       "2                 5.7  2011-08-18 00:35:00 UTC        -73.982735   \n",
       "3                 7.7  2012-04-21 04:30:42 UTC        -73.987129   \n",
       "4                 5.3  2010-03-09 07:51:00 UTC        -73.968094   \n",
       "...               ...                      ...               ...   \n",
       "55423851         14.0  2014-03-15 03:28:00 UTC        -74.005272   \n",
       "55423852          4.2  2009-03-24 20:46:20 UTC        -73.957787   \n",
       "55423853         14.1  2011-04-02 22:04:24 UTC        -73.970505   \n",
       "55423854         28.9  2011-10-26 05:57:51 UTC        -73.980904   \n",
       "55423855          7.5  2014-12-12 11:33:00 UTC        -73.969719   \n",
       "\n",
       "          pickup_latitude  dropoff_longitude  dropoff_latitude  \\\n",
       "0               40.721317         -73.841614         40.712276   \n",
       "1               40.711304         -73.979271         40.782005   \n",
       "2               40.761269         -73.991241         40.750561   \n",
       "3               40.733143         -73.991570         40.758091   \n",
       "4               40.768009         -73.956657         40.783764   \n",
       "...                   ...                ...               ...   \n",
       "55423851        40.740028         -73.963280         40.762554   \n",
       "55423852        40.765530         -73.951637         40.773960   \n",
       "55423853        40.752323         -73.960541         40.797340   \n",
       "55423854        40.764629         -73.870605         40.773964   \n",
       "55423855        40.797668         -73.970886         40.783314   \n",
       "\n",
       "          passenger_count  \n",
       "0                       1  \n",
       "1                       1  \n",
       "2                       2  \n",
       "3                       1  \n",
       "4                       1  \n",
       "...                   ...  \n",
       "55423851                1  \n",
       "55423852                1  \n",
       "55423853                1  \n",
       "55423854                1  \n",
       "55423855                1  \n",
       "\n",
       "[55423856 rows x 7 columns]>"
      ]
     },
     "execution_count": 18,
     "metadata": {},
     "output_type": "execute_result"
    }
   ],
   "source": [
    "train_df_new.info"
   ]
  },
  {
   "cell_type": "code",
   "execution_count": 19,
   "id": "188bf80a",
   "metadata": {},
   "outputs": [],
   "source": [
    "# Add features to the dataframe\n",
    "#The travel vector represents the pickup location to the dropff location\n",
    "def add_travel_vector_features(df):\n",
    "    df['abs_diff_longitude'] = (df.dropoff_longitude - df.pickup_longitude).abs()\n",
    "    df['abs_diff_latitude'] = (df.dropoff_latitude - df.pickup_latitude).abs()\n",
    "    \n",
    "add_travel_vector_features(train_df_new)"
   ]
  },
  {
   "cell_type": "markdown",
   "id": "5734b5bb",
   "metadata": {},
   "source": [
    "# Data cleaning- Pruning Outliers"
   ]
  },
  {
   "cell_type": "code",
   "execution_count": 20,
   "id": "b80d91ac",
   "metadata": {},
   "outputs": [
    {
     "name": "stdout",
     "output_type": "stream",
     "text": [
      "fare_amount             0\n",
      "pickup_datetime         0\n",
      "pickup_longitude        0\n",
      "pickup_latitude         0\n",
      "dropoff_longitude     376\n",
      "dropoff_latitude      376\n",
      "passenger_count         0\n",
      "abs_diff_longitude    376\n",
      "abs_diff_latitude     376\n",
      "dtype: int64\n"
     ]
    }
   ],
   "source": [
    "print(train_df_new.isnull().sum())"
   ]
  },
  {
   "cell_type": "code",
   "execution_count": 21,
   "id": "e2ea1dcd",
   "metadata": {},
   "outputs": [
    {
     "name": "stdout",
     "output_type": "stream",
     "text": [
      "Old size: 55423856\n",
      "New size: 55423480\n",
      "Error free: 54253943\n"
     ]
    }
   ],
   "source": [
    "#Removing observations with missing values\n",
    "print('Old size: %d' %len(train_df_new))\n",
    "train_df_new = train_df_new.dropna(how ='any', axis='rows')\n",
    "print('New size: %d' %len(train_df_new))\n",
    "\n",
    "# Removing observations with erroneous values\n",
    "mask = train_df_new['pickup_longitude'].between(-75, -73)\n",
    "mask &= train_df_new['dropoff_longitude'].between(-75, -73)\n",
    "mask &= train_df_new['pickup_latitude'].between(40, 42)\n",
    "mask &= train_df_new['dropoff_latitude'].between(40, 42)\n",
    "mask &= train_df_new['passenger_count'].between(0, 8)\n",
    "mask &= train_df_new['fare_amount'].between(0, 250)\n",
    "\n",
    "train_df_new = train_df_new[mask]\n",
    "print('Error free: %d' %len(train_df_new))"
   ]
  },
  {
   "cell_type": "code",
   "execution_count": 22,
   "id": "d6d24697",
   "metadata": {},
   "outputs": [
    {
     "data": {
      "image/png": "[encoded data removed]",
      "text/plain": [
       "<Figure size 432x288 with 1 Axes>"
      ]
     },
     "metadata": {
      "needs_background": "light"
     },
     "output_type": "display_data"
    }
   ],
   "source": [
    "#Distribution of our subset travel vector\n",
    "plot = train_df_new.iloc[:2000].plot.scatter('abs_diff_longitude', 'abs_diff_latitude') "
   ]
  },
  {
   "cell_type": "code",
   "execution_count": 23,
   "id": "9d83ca47",
   "metadata": {},
   "outputs": [
    {
     "name": "stdout",
     "output_type": "stream",
     "text": [
      "Old size: 54253943\n",
      "New size: 54253943\n"
     ]
    }
   ],
   "source": [
    "print('Old size: %d' % len(train_df_new))\n",
    "train_df_new = train_df_new[(train_df_new.abs_diff_longitude < 5.0) & (train_df_new.abs_diff_latitude < 5.0)]\n",
    "print('New size: %d' % len(train_df_new))\n"
   ]
  },
  {
   "cell_type": "markdown",
   "id": "2ede9552",
   "metadata": {},
   "source": [
    "# Training the model"
   ]
  },
  {
   "cell_type": "code",
   "execution_count": 24,
   "id": "cd4090fa",
   "metadata": {},
   "outputs": [
    {
     "name": "stdout",
     "output_type": "stream",
     "text": [
      "(54253943, 3)\n",
      "(54253943,)\n"
     ]
    }
   ],
   "source": [
    "#Establish an input matrix for our linear model.\n",
    "def get_input_matrix(df):\n",
    "    return np.column_stack((df.abs_diff_longitude, df.abs_diff_latitude, np.ones(len(df))))\n",
    "train_X = get_input_matrix(train_df_new)\n",
    "train_Y = np.array(train_df_new['fare_amount'])\n",
    "\n",
    "print(train_X.shape)\n",
    "print(train_Y.shape)"
   ]
  },
  {
   "cell_type": "code",
   "execution_count": 25,
   "id": "d809ced1",
   "metadata": {},
   "outputs": [
    {
     "name": "stdout",
     "output_type": "stream",
     "text": [
      "[167.37400529 117.03581653   5.00922103]\n"
     ]
    }
   ],
   "source": [
    "# We seek to find the optimal weight column using the Ordinary Least Squares -numpy used.\n",
    "w_OLS = np.matmul(np.matmul(np.linalg.inv(np.matmul(train_X.T, train_X)), train_X.T), train_Y)\n",
    "print(w_OLS)"
   ]
  },
  {
   "cell_type": "markdown",
   "id": "962458b6",
   "metadata": {},
   "source": [
    "# Evaluating the model using the test set\n",
    "\n"
   ]
  },
  {
   "cell_type": "code",
   "execution_count": 26,
   "id": "ddf0258b",
   "metadata": {},
   "outputs": [
    {
     "data": {
      "text/plain": [
       "key                   object\n",
       "pickup_datetime       object\n",
       "pickup_longitude     float64\n",
       "pickup_latitude      float64\n",
       "dropoff_longitude    float64\n",
       "dropoff_latitude     float64\n",
       "passenger_count        int64\n",
       "dtype: object"
      ]
     },
     "execution_count": 26,
     "metadata": {},
     "output_type": "execute_result"
    }
   ],
   "source": [
    "testing_df = pd.read_csv('../data science project/test.csv')\n",
    "testing_df.dtypes"
   ]
  },
  {
   "cell_type": "code",
   "execution_count": 27,
   "id": "8f6a21ff",
   "metadata": {},
   "outputs": [
    {
     "name": "stdout",
     "output_type": "stream",
     "text": [
      "['.ipynb_checkpoints', 'GCP-Coupons-Instructions.rtf', 'load.csv', 'nyc_taxi_data_raw.feather', 'sample_submission.csv', 'Taxi Fare Prediction.ipynb', 'test.csv', 'train.csv']\n"
     ]
    }
   ],
   "source": [
    "# We need to generate the input matrix by adding our features to the above helper functions.\n",
    "add_travel_vector_features(testing_df)\n",
    "X_test = get_input_matrix(testing_df)\n",
    "\n",
    "\n",
    "#Proceed to make predictions of the fare_amount on the test set based on our model (weight column) developed using the training set\n",
    "Y_test_predictions = np.matmul(X_test,w_OLS).round(decimals = 2)\n",
    "\n",
    "#We can load our predictions as csv files\n",
    "load=pd.DataFrame({'key': testing_df.index, 'fare_amount': Y_test_predictions},\n",
    "    columns = ['key', 'fare_amount'])\n",
    "load.to_csv('load.csv', index = False)\n",
    "\n",
    "print(os.listdir('.'))"
   ]
  },
  {
   "cell_type": "code",
   "execution_count": null,
   "id": "621ae1a2",
   "metadata": {},
   "outputs": [],
   "source": []
  },
  {
   "cell_type": "code",
   "execution_count": null,
   "id": "e1104aa6",
   "metadata": {},
   "outputs": [],
   "source": []
  },
  {
   "cell_type": "code",
   "execution_count": null,
   "id": "79874450",
   "metadata": {},
   "outputs": [],
   "source": []
  }
 ],
 "metadata": {
  "kernelspec": {
   "display_name": "Python 3",
   "language": "python",
   "name": "python3"
  },
  "language_info": {
   "codemirror_mode": {
    "name": "ipython",
    "version": 3
   },
   "file_extension": ".py",
   "mimetype": "text/x-python",
   "name": "python",
   "nbconvert_exporter": "python",
   "pygments_lexer": "ipython3",
   "version": "3.8.8"
  }
 },
 "nbformat": 4,
 "nbformat_minor": 5
}
